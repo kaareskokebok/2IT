{
 "cells": [
  {
   "cell_type": "markdown",
   "metadata": {},
   "source": [
    "# Oppgaver lister\n",
    "\n",
    "## Stein saks og papir\n",
    "Lag et program der du spiller SSP mot datamaskinen.\n",
    "Bruk random.choice for å velge tilfeldig for CPU, mens spilleren skal velge ved f.eks. å taste q, w eller e. \n",
    "\n",
    "### Kodehjelp CPU:\n"
   ]
  },
  {
   "cell_type": "code",
   "execution_count": 2,
   "metadata": {},
   "outputs": [
    {
     "name": "stdout",
     "output_type": "stream",
     "text": [
      "CPU valgte stein\n"
     ]
    }
   ],
   "source": [
    "import random \n",
    "\n",
    "ssp = ['stein', 'saks', 'papir']\n",
    "cpu_valg = random.choice(ssp)\n",
    "print(f\"CPU valgte {cpu_valg}\")"
   ]
  },
  {
   "cell_type": "markdown",
   "metadata": {},
   "source": [
    "## Steg 1: en runde\n",
    "Programmer slik at en runde fungerer. Rekkefølgen er slik:\n",
    "1. CPU velger tilfeldig\n",
    "2. Brukeren velger (ved input)\n",
    "3. Avgjør om brukeren vinner, taper eller om det er uavgjort\n",
    "4. Skriv ut resultatet"
   ]
  },
  {
   "cell_type": "markdown",
   "metadata": {},
   "source": [
    "## Steg 2: flere runder\n",
    "Utvid nå slik at det er flere runder. Velg nå f.eks. 10 runder totalt.\n",
    "Programmet skal skrive ut vinneren etter 10 runder. Evt. uavgjort."
   ]
  },
  {
   "cell_type": "markdown",
   "metadata": {},
   "source": [
    "## Steg 3: en runde er førstemann til 2 vinn\n",
    "Endre slik at for å vinne en runde, er det førstemann til å vinne 2 ganger. Spill 10 slike runder.\n"
   ]
  },
  {
   "cell_type": "markdown",
   "metadata": {},
   "source": [
    "# Oppgave: TODO-liste program\n",
    "Lag et program med en todo-liste, f.eks. begynn slik:"
   ]
  },
  {
   "cell_type": "code",
   "execution_count": 3,
   "metadata": {},
   "outputs": [],
   "source": [
    "todos = ['vaske gulv', 'tørke støv', 'gjøre lekser']"
   ]
  },
  {
   "cell_type": "markdown",
   "metadata": {},
   "source": [
    "### Krav til programmet\n",
    "Programmet skal kunne gjøre følgende:\n",
    "- Skriv ut alle todos\n",
    "- Legge til en todo\n",
    "- Fullføre en todo (slette fra lista)\n",
    "- Holde prioritet over todos, den første i lista er den viktigste"
   ]
  }
 ],
 "metadata": {
  "kernelspec": {
   "display_name": ".venv",
   "language": "python",
   "name": "python3"
  },
  "language_info": {
   "codemirror_mode": {
    "name": "ipython",
    "version": 3
   },
   "file_extension": ".py",
   "mimetype": "text/x-python",
   "name": "python",
   "nbconvert_exporter": "python",
   "pygments_lexer": "ipython3",
   "version": "3.10.12"
  }
 },
 "nbformat": 4,
 "nbformat_minor": 2
}
