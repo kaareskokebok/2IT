{
 "cells": [
  {
   "cell_type": "markdown",
   "metadata": {},
   "source": [
    "# Lister 2\n",
    "### Loope lister, for, while, list comprehension, sortering, join, copy"
   ]
  },
  {
   "cell_type": "markdown",
   "metadata": {},
   "source": [
    "## Loope med for verdi in..."
   ]
  },
  {
   "cell_type": "code",
   "execution_count": 6,
   "metadata": {},
   "outputs": [
    {
     "name": "stdout",
     "output_type": "stream",
     "text": [
      "hei\n",
      "ho\n",
      "lsdkfn\n"
     ]
    }
   ],
   "source": [
    "liste = [\"hei\", \"ho\", \"lsdkfn\"]\n",
    "\n",
    "for verdi in liste:\n",
    "    print(verdi)"
   ]
  },
  {
   "cell_type": "markdown",
   "metadata": {},
   "source": [
    "## Loope med for i in range\n",
    "Nyttig når vi har bruk for indeksen."
   ]
  },
  {
   "cell_type": "code",
   "execution_count": 16,
   "metadata": {},
   "outputs": [
    {
     "name": "stdout",
     "output_type": "stream",
     "text": [
      "3\n",
      "1. plass: per\n",
      "2. plass: ola\n",
      "3. plass: knut\n"
     ]
    }
   ],
   "source": [
    "vinnere = [\"per\", \"ola\", \"knut\"]\n",
    "print(len(vinnere))\n",
    "\n",
    "for i in range(len(vinnere)):\n",
    "    print(f\"{i+1}. plass: {vinnere[i]}\")"
   ]
  },
  {
   "cell_type": "markdown",
   "metadata": {},
   "source": [
    "## Loope liste med while\n",
    "\n"
   ]
  },
  {
   "cell_type": "code",
   "execution_count": 22,
   "metadata": {},
   "outputs": [
    {
     "name": "stdout",
     "output_type": "stream",
     "text": [
      "per\n",
      "ola\n",
      "knut\n",
      "noah\n"
     ]
    }
   ],
   "source": [
    "vinnere = [\"per\", \"ola\", \"knut\", \"noah\"]\n",
    "\n",
    "i = 0\n",
    "while i < 4:\n",
    "    print(vinnere[i])\n",
    "    i += 1"
   ]
  },
  {
   "cell_type": "markdown",
   "metadata": {},
   "source": [
    "## List comprehension\n",
    "\n",
    "### Skrive ut verdiene i liste med list comprehension"
   ]
  },
  {
   "cell_type": "code",
   "execution_count": 29,
   "metadata": {},
   "outputs": [
    {
     "name": "stdout",
     "output_type": "stream",
     "text": [
      "ape\n",
      "katt\n",
      "ål\n",
      "bikkje\n",
      "ørkenrotte\n",
      "------\n",
      "apekoko\n",
      "kattkoko\n",
      "ålkoko\n",
      "bikkjekoko\n",
      "ørkenrottekoko\n"
     ]
    },
    {
     "data": {
      "text/plain": [
       "[None, None, None, None, None]"
      ]
     },
     "execution_count": 29,
     "metadata": {},
     "output_type": "execute_result"
    }
   ],
   "source": [
    "dyr = [\"ape\", \"katt\", \"ål\", \"bikkje\", \"ørkenrotte\"]\n",
    "\n",
    "# Liste comprehension\n",
    "[print(d) for d in dyr]\n",
    "\n",
    "print(\"------\")\n",
    "[print(d + \"koko\") for d in dyr]\n",
    "# Gjør det samme som dette\n",
    "#for d in dyr:\n",
    "#   print(d)"
   ]
  },
  {
   "cell_type": "markdown",
   "metadata": {},
   "source": [
    "## List comprehension 2: Lage ny liste"
   ]
  },
  {
   "cell_type": "code",
   "execution_count": 31,
   "metadata": {},
   "outputs": [
    {
     "name": "stdout",
     "output_type": "stream",
     "text": [
      "['e', 'f', 'a', 'b', 'c', 'd']\n",
      "[0, 1, 2, 3, 4]\n"
     ]
    }
   ],
   "source": [
    "liste1 = [\"a\", \"b\", \"c\", \"d\"]\n",
    "liste2 = [\"e\", \"f\"]\n",
    "\n",
    "[liste2.append(item) for item in liste1]\n",
    "#for item in liste1:\n",
    "#    liste2.append(item)\n",
    "print(liste2)\n",
    "\n",
    "# Liste med tall\n",
    "liste3 = [i for i in range(5)]\n",
    "print(liste3)\n",
    "liste4 = [x for x in range(2, 10)]\n",
    "print(liste4)\n",
    "liste5 = [y for y in range(-10, 30, 5)]\n",
    "print(liste5)"
   ]
  },
  {
   "cell_type": "markdown",
   "metadata": {},
   "source": [
    "### Liten oppgave\n",
    "Bruk liste-comprehension til å lage følgende lister:\n",
    "- [0, 1, 2, 3]\n",
    "- [10, 11, 12, 13, 14, 15]\n",
    "- [\"koko\", \"koko\", \"koko\", \"koko\", ..., \"koko\"] (30 stk. koko)\n",
    "- [-20, -16, -12, ..., 16]\n",
    "- [99, 96, 93, ...,6]"
   ]
  },
  {
   "cell_type": "code",
   "execution_count": 37,
   "metadata": {},
   "outputs": [
    {
     "name": "stdout",
     "output_type": "stream",
     "text": [
      "koko, koko, koko, koko, koko, koko, koko, koko, koko, koko, koko, koko, koko, koko, koko, koko, koko, koko, koko, koko, koko, koko, koko, koko, koko, koko, koko, koko, koko, koko, "
     ]
    },
    {
     "data": {
      "text/plain": [
       "[None,\n",
       " None,\n",
       " None,\n",
       " None,\n",
       " None,\n",
       " None,\n",
       " None,\n",
       " None,\n",
       " None,\n",
       " None,\n",
       " None,\n",
       " None,\n",
       " None,\n",
       " None,\n",
       " None,\n",
       " None,\n",
       " None,\n",
       " None,\n",
       " None,\n",
       " None,\n",
       " None,\n",
       " None,\n",
       " None,\n",
       " None,\n",
       " None,\n",
       " None,\n",
       " None,\n",
       " None,\n",
       " None,\n",
       " None]"
      ]
     },
     "execution_count": 37,
     "metadata": {},
     "output_type": "execute_result"
    }
   ],
   "source": [
    "# Løsning\n",
    "liste = [ x for x in range(30)]\n",
    "#[print(\"koko\", end=\", \") for x in liste]\n",
    "\n",
    "[print(\"koko\", end=\", \") for x in range(30)]\n"
   ]
  },
  {
   "cell_type": "markdown",
   "metadata": {},
   "source": [
    "## Eksempel på anvendelse: Brukernavn\n",
    "\n",
    "Alle elever lager et brukernavn, programmet sørger for at alle lagres med små bokstaver."
   ]
  },
  {
   "cell_type": "code",
   "execution_count": 38,
   "metadata": {},
   "outputs": [
    {
     "name": "stdout",
     "output_type": "stream",
     "text": [
      "per, ola, knut, jensern\n"
     ]
    }
   ],
   "source": [
    "navneliste = [\"PeR\", \"OLA\", \"Knut\", \"JenSern\"]\n",
    "\n",
    "# Konverterer all stringer til små bokstaver\n",
    "navn_korrigert = [navn.lower() for navn in navneliste]\n",
    "\n",
    "print(\", \".join(navn_korrigert))"
   ]
  },
  {
   "cell_type": "markdown",
   "metadata": {},
   "source": [
    "### Minioppgave\n",
    "Lag et program der brukeren kan skrive inn 4 fornavn, separert av mellomrom. For å lese inn dette og lagre i en liste, gjør slik:\n",
    "```python\n",
    "navneliste = input(\"Oppgi navn (SPACE mellom navn): \").split(\" \")\n",
    "```\n",
    "Programmet skal så bruke liste-comprehension til å lage en ny liste der bare første bokstaven i hvert navn er stor. Skriv ut både den gamle og den nye lista, ved hjelp av `join`, slik at navnene blir skrevet ut med space imellom."
   ]
  },
  {
   "cell_type": "code",
   "execution_count": 40,
   "metadata": {},
   "outputs": [
    {
     "name": "stdout",
     "output_type": "stream",
     "text": [
      "['per', 'arne', 'jens', 'gensern']\n",
      "per arne jens gensern\n",
      "Per Arne Jens Gensern\n"
     ]
    }
   ],
   "source": [
    "navneliste = input(\"Oppgi navn (SPACE mellom navn): \").split(\" \")\n",
    "print(navneliste)\n",
    "print(\" \".join(navneliste))\n",
    "\n",
    "navn_fix = [navn.title() for navn in navneliste]\n",
    "\n",
    "print(\" \".join(navn_fix))"
   ]
  },
  {
   "cell_type": "markdown",
   "metadata": {},
   "source": [
    "## Betingelser med list comprehension\n",
    "\n",
    "### Alle navn som inneholder en bestemt bokstav"
   ]
  },
  {
   "cell_type": "code",
   "execution_count": 43,
   "metadata": {},
   "outputs": [
    {
     "name": "stdout",
     "output_type": "stream",
     "text": [
      "Sara Marius Kari Lars Anders Marte Henrik Ingrid Erik Kristian Ragnhild Alexander Maria Sondre Fredrik Eirik Kristin\n",
      "Sara Marius Kari Lars Anders Marte Henrik Ingrid Erik Kristian Ragnhild Alexander Maria Sondre Fredrik Eirik Kristin\n"
     ]
    }
   ],
   "source": [
    "norwegian_names = [\n",
    "    \"Emma\", \"Ola\", \"Jonas\", \"Sara\", \"Marius\", \"Ida\", \"Kari\", \"Lars\", \n",
    "    \"Anders\", \"Marte\", \"Knut\", \"Sofie\", \"Magnus\", \"Eline\", \"Henrik\", \n",
    "    \"Ingrid\", \"Erik\", \"Camilla\", \"Tobias\", \"Silje\", \"Kristian\", \"Nina\", \n",
    "    \"Mathias\", \"Ragnhild\", \"Alexander\", \"Maria\", \"Sondre\", \"Hanne\", \n",
    "    \"Johannes\", \"Anette\", \"Sebastian\", \"Helene\", \"Fredrik\", \"Line\", \n",
    "    \"Eirik\", \"Kristin\", \"Simen\", \"Lena\", \"Emil\", \"Elisabeth\"\n",
    "]\n",
    "# Metode 1 med for-løkke\n",
    "names_with_r = [ ]\n",
    "for name in norwegian_names:\n",
    "    if \"r\" in name.lower(): \n",
    "        names_with_r.append(name)\n",
    "\n",
    "print(\" \".join(names_with_r))\n",
    "\n",
    "# Metode 2 med list comprehension\n",
    "names_with_r = [name for name in norwegian_names if \"r\" in name.lower() ]\n",
    "print(\" \".join(names_with_r))"
   ]
  },
  {
   "cell_type": "markdown",
   "metadata": {},
   "source": [
    "## Søke i stor navneliste\n",
    "1. Bruk chatgpt til å lage 300 navn som du lagrer i en liste\n",
    "1. Bruk for-løkke til å lage nytt array med navn som inneholder bokstaven b\n",
    "1. Gjør det samme med list comprehension\n",
    "1. Bruk for-løkke til å lage nytt array med navn som inneholder b og r\n",
    "1. Gjør det samme med list comprehension\n",
    "1. Bruk for-løkke til å lage nytt array med navn som er slik at bokstavene b og r står ved siden av hverandre (enten br eller rb).\n",
    "1. Gjør det samme med list comprehension\n",
    "1. Bruk list comprehension til å bare skrive ut navn som har A som forbokstav og e som siste bokstav\n",
    "\n",
    "Tisp: Lag .py fil for dette, ikke bruk ipynb (fordi output er så stort)."
   ]
  }
 ],
 "metadata": {
  "kernelspec": {
   "display_name": ".venv",
   "language": "python",
   "name": "python3"
  },
  "language_info": {
   "codemirror_mode": {
    "name": "ipython",
    "version": 3
   },
   "file_extension": ".py",
   "mimetype": "text/x-python",
   "name": "python",
   "nbconvert_exporter": "python",
   "pygments_lexer": "ipython3",
   "version": "3.10.12"
  }
 },
 "nbformat": 4,
 "nbformat_minor": 2
}
