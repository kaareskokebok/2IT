{
 "cells": [
  {
   "cell_type": "markdown",
   "metadata": {},
   "source": [
    "## Dictionaries del 2\n",
    "### Flere brukere"
   ]
  },
  {
   "cell_type": "code",
   "execution_count": 2,
   "metadata": {},
   "outputs": [
    {
     "name": "stdout",
     "output_type": "stream",
     "text": [
      "Feil brukernavn eller passord\n"
     ]
    }
   ],
   "source": [
    "brukere = {\n",
    "    \"jens\":\"jens123\",\n",
    "    \"arne\":\"arne321\",\n",
    "    \"bo\":\"bo213\"\n",
    "}\n",
    "\n",
    "user = input(\"Oppgi brukernavn: \")\n",
    "pw = input(\"Oppgi passord: \")\n",
    "\n",
    "# Sjekk\n",
    "er_innlogget = False\n",
    "if user in brukere.keys():\n",
    "    # if pw in brukere.values():\n",
    "    if pw == brukere[user]:\n",
    "        print(\"Innlogget...\")\n",
    "        er_innlogget = True\n",
    "\n",
    "if not er_innlogget:\n",
    "    print(\"Feil brukernavn eller passord\")\n",
    "\n"
   ]
  },
  {
   "cell_type": "markdown",
   "metadata": {},
   "source": [
    "## Utvid slik at du får maksimalt 3 forsøk på å logge inn\n",
    "Hvis du bruker opp forsøkene, avsluttes programmet.\n",
    "Tips: for-loop eller while-loop.\n",
    "\n",
    "HVIS FERDIG?!?!!?\n",
    "ENDRE QUIZ-programmet slik at spørsmålene kommer i tilfeldig rekkefølge.\n",
    "Ekstra: Dersom du får 3 feil på rad, avsluttes spillet og terminalen fylles opp med 1000 X-er."
   ]
  }
 ],
 "metadata": {
  "kernelspec": {
   "display_name": ".venv",
   "language": "python",
   "name": "python3"
  },
  "language_info": {
   "codemirror_mode": {
    "name": "ipython",
    "version": 3
   },
   "file_extension": ".py",
   "mimetype": "text/x-python",
   "name": "python",
   "nbconvert_exporter": "python",
   "pygments_lexer": "ipython3",
   "version": "3.10.12"
  }
 },
 "nbformat": 4,
 "nbformat_minor": 2
}
