{
 "cells": [
  {
   "cell_type": "markdown",
   "metadata": {},
   "source": [
    "# Dictionaries del 1\n",
    "Dictionaries/ordbøker ligner på lister, men indeksene er ikke tall,men nøkler(keys) som f.eks. \"navn\", \"etternavn\", \"passord\", \"farge\" osv.\n",
    "\n",
    "## Opprette dict"
   ]
  },
  {
   "cell_type": "code",
   "execution_count": 2,
   "metadata": {},
   "outputs": [
    {
     "name": "stdout",
     "output_type": "stream",
     "text": [
      "{'bird': 'fugl', 'pupil': 'elev', 'jerk': 'dust', 'car': 'bil'}\n",
      "{'etternavn': 'englund', 'antall venner': 5, 'vennenavn': ['kari', 'arne', 'bo', 'per', 'ea'], 'er kjekk': True, 'gift': False}\n"
     ]
    }
   ],
   "source": [
    "eng_no = {\n",
    "    \"bird\":\"fugl\",\n",
    "    \"pupil\":\"elev\",\n",
    "    \"jerk\":\"dust\",\n",
    "    \"car\":\"bil\"\n",
    "}\n",
    "\n",
    "jens = {\n",
    "    \"etternavn\":\"englund\",\n",
    "    \"antall venner\":5,\n",
    "    \"vennenavn\": [\"kari\", \"arne\", \"bo\", \"per\", \"ea\"],\n",
    "    \"er kjekk\": True,\n",
    "    \"gift\": False\n",
    "}\n",
    "\n",
    "print(eng_no)\n",
    "print(jens)"
   ]
  },
  {
   "cell_type": "markdown",
   "metadata": {},
   "source": [
    "## Hente ut og endre items (key-value pairs)"
   ]
  },
  {
   "cell_type": "code",
   "execution_count": 11,
   "metadata": {},
   "outputs": [
    {
     "name": "stdout",
     "output_type": "stream",
     "text": [
      "fugl\n",
      "bil\n",
      "{'bird': 'fugl', 'pupil': 'elev', 'jerk': 'drittsekk', 'car': 'bil'}\n",
      "{'bird': 'fugl', 'pupil': 'elev', 'jerk': 'tulling', 'car': 'bil'}\n"
     ]
    }
   ],
   "source": [
    "eng_no = {\n",
    "    \"bird\":\"fugl\",\n",
    "    \"pupil\":\"elev\",\n",
    "    \"jerk\":\"dust\",\n",
    "    \"car\":\"bil\"\n",
    "}\n",
    "\n",
    "print(eng_no[\"bird\"])\n",
    "print(eng_no[\"car\"])\n",
    "\n",
    "# Ulovlig\n",
    "# print(eng_no[\"fugl\"])\n",
    "# Endre\n",
    "eng_no[\"jerk\"] = \"drittsekk\"\n",
    "\n",
    "print(eng_no)\n",
    "\n",
    "# Alternativ metode\n",
    "eng_no.update({\"jerk\":\"tulling\"})\n",
    "print(eng_no)"
   ]
  },
  {
   "cell_type": "markdown",
   "metadata": {},
   "source": [
    "## Innebygde metoder keys, values items"
   ]
  },
  {
   "cell_type": "code",
   "execution_count": null,
   "metadata": {},
   "outputs": [],
   "source": [
    "jens = {\n",
    "    \"etternavn\":\"englund\",\n",
    "    \"antall venner\":5,\n",
    "    \"vennenavn\": [\"kari\", \"arne\", \"bo\", \"per\", \"ea\"],\n",
    "    \"er kjekk\": True,\n",
    "    \"gift\": False\n",
    "}"
   ]
  }
 ],
 "metadata": {
  "kernelspec": {
   "display_name": ".venv",
   "language": "python",
   "name": "python3"
  },
  "language_info": {
   "codemirror_mode": {
    "name": "ipython",
    "version": 3
   },
   "file_extension": ".py",
   "mimetype": "text/x-python",
   "name": "python",
   "nbconvert_exporter": "python",
   "pygments_lexer": "ipython3",
   "version": "3.10.12"
  }
 },
 "nbformat": 4,
 "nbformat_minor": 2
}
