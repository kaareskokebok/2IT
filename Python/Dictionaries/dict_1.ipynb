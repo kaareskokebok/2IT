{
 "cells": [
  {
   "cell_type": "markdown",
   "metadata": {},
   "source": [
    "# Dictionaries del 1\n",
    "Dictionaries/ordbøker ligner på lister, men indeksene er ikke tall,men nøkler(keys) som f.eks. \"navn\", \"etternavn\", \"passord\", \"farge\" osv.\n",
    "\n",
    "## Opprette dict"
   ]
  },
  {
   "cell_type": "code",
   "execution_count": 2,
   "metadata": {},
   "outputs": [
    {
     "name": "stdout",
     "output_type": "stream",
     "text": [
      "{'bird': 'fugl', 'pupil': 'elev', 'jerk': 'dust', 'car': 'bil'}\n",
      "{'etternavn': 'englund', 'antall venner': 5, 'vennenavn': ['kari', 'arne', 'bo', 'per', 'ea'], 'er kjekk': True, 'gift': False}\n"
     ]
    }
   ],
   "source": [
    "eng_no = {\n",
    "    \"bird\":\"fugl\",\n",
    "    \"pupil\":\"elev\",\n",
    "    \"jerk\":\"dust\",\n",
    "    \"car\":\"bil\"\n",
    "}\n",
    "\n",
    "jens = {\n",
    "    \"etternavn\":\"englund\",\n",
    "    \"antall venner\":5,\n",
    "    \"vennenavn\": [\"kari\", \"arne\", \"bo\", \"per\", \"ea\"],\n",
    "    \"er kjekk\": True,\n",
    "    \"gift\": False\n",
    "}\n",
    "\n",
    "print(eng_no)\n",
    "print(jens)"
   ]
  },
  {
   "cell_type": "markdown",
   "metadata": {},
   "source": [
    "## Hente ut og endre items (key-value pairs)"
   ]
  },
  {
   "cell_type": "code",
   "execution_count": 11,
   "metadata": {},
   "outputs": [
    {
     "name": "stdout",
     "output_type": "stream",
     "text": [
      "fugl\n",
      "bil\n",
      "{'bird': 'fugl', 'pupil': 'elev', 'jerk': 'drittsekk', 'car': 'bil'}\n",
      "{'bird': 'fugl', 'pupil': 'elev', 'jerk': 'tulling', 'car': 'bil'}\n"
     ]
    }
   ],
   "source": [
    "eng_no = {\n",
    "    \"bird\":\"fugl\",\n",
    "    \"pupil\":\"elev\",\n",
    "    \"jerk\":\"dust\",\n",
    "    \"car\":\"bil\"\n",
    "}\n",
    "\n",
    "print(eng_no[\"bird\"])\n",
    "print(eng_no[\"car\"])\n",
    "\n",
    "# Ulovlig\n",
    "# print(eng_no[\"fugl\"])\n",
    "# Endre\n",
    "eng_no[\"jerk\"] = \"drittsekk\"\n",
    "\n",
    "print(eng_no)\n",
    "\n",
    "# Alternativ metode\n",
    "eng_no.update({\"jerk\":\"tulling\"})\n",
    "print(eng_no)"
   ]
  },
  {
   "cell_type": "markdown",
   "metadata": {},
   "source": [
    "## Innebygde metoder keys, values items"
   ]
  },
  {
   "cell_type": "code",
   "execution_count": 21,
   "metadata": {},
   "outputs": [
    {
     "name": "stdout",
     "output_type": "stream",
     "text": [
      "['kari', 'arne', 'bo', 'per', 'ea']\n",
      "per\n",
      "dict_keys(['etternavn', 'antall venner', 'vennenavn', 'er kjekk', 'gift'])\n",
      "etternavn antall venner vennenavn er kjekk gift\n",
      "dict_values(['englund', 5, ['kari', 'arne', 'bo', 'per', 'ea'], True, False])\n",
      "englund\n",
      "5\n",
      "['kari', 'arne', 'bo', 'per', 'ea']\n",
      "True\n",
      "False\n",
      "dict_items([('etternavn', 'englund'), ('antall venner', 5), ('vennenavn', ['kari', 'arne', 'bo', 'per', 'ea']), ('er kjekk', True), ('gift', False)])\n",
      "('etternavn', 'englund')\n",
      "('antall venner', 5)\n",
      "('vennenavn', ['kari', 'arne', 'bo', 'per', 'ea'])\n",
      "('er kjekk', True)\n",
      "('gift', False)\n",
      "Nøkkel: etternavn, og verdi er englund\n",
      "Nøkkel: antall venner, og verdi er 5\n",
      "Nøkkel: vennenavn, og verdi er ['kari', 'arne', 'bo', 'per', 'ea']\n",
      "Nøkkel: er kjekk, og verdi er True\n",
      "Nøkkel: gift, og verdi er False\n"
     ]
    }
   ],
   "source": [
    "jens = {\n",
    "    \"etternavn\":\"englund\",\n",
    "    \"antall venner\":5,\n",
    "    \"vennenavn\": [\"kari\", \"arne\", \"bo\", \"per\", \"ea\"],\n",
    "    \"er kjekk\": True,\n",
    "    \"gift\": False\n",
    "}\n",
    "# hente ut per\n",
    "print(jens[\"vennenavn\"])  # [\"kari\", \"arne\",...]\n",
    "print(jens[\"vennenavn\"][3])  # per\n",
    "\n",
    "# Bare nøkler\n",
    "print(jens.keys())\n",
    "print(\" \".join(jens.keys()))\n",
    "# Bare verdier\n",
    "print(jens.values())\n",
    "# print(\"\\n\".join(jens.values()))\n",
    "for verdi in jens.values():\n",
    "    print(verdi)\n",
    "\n",
    "# Både nøkler og verdier (items)\n",
    "print(jens.items())\n",
    "for item in jens.items():\n",
    "    print(item)\n",
    "# Dele opp nøkkel og verdi i hver sin variabel\n",
    "for key, value in jens.items():\n",
    "    print(f\"Nøkkel: {key}, og verdi er {value}\")"
   ]
  },
  {
   "cell_type": "markdown",
   "metadata": {},
   "source": [
    "## Oppgave 1: 3 spm quiz\n",
    "Lag en ordbok med 3 spm og svar. Bruk en løkke til å stille de 3 spm og sjekke brukerens svar. Hvert riktig svar gir 1 poeng, brukeren får også tilbakemelding etter hvert svar. Til slutt får han totalpoeng. "
   ]
  },
  {
   "cell_type": "code",
   "execution_count": 23,
   "metadata": {},
   "outputs": [],
   "source": [
    "spm_svar = {\n",
    "    \"Hva heter hovedstaden i Ukraina?\": \"Kiev\",\n",
    "    \"neste spm\": \"svar\"\n",
    "}\n",
    "\n",
    "total_poeng = 0\n",
    "\n",
    "for spm, fasitsvar in spm_svar.items():\n",
    "    pass\n",
    "    # 0 - slett ordet pass\n",
    "    # 1 - Still spm til brukeren vha. input\n",
    "    # 2 - lagre brukersvar i en variabel\n",
    "    # 3 - bruk if til å sjekke brukersvar mot fasitsvar\n",
    "    # 4 - Gi tilbakemelding\n",
    "    # 5 - Øk antall poeng hvis riktig\n",
    "\n",
    "# 6 - Skriv ut antall riktige"
   ]
  }
 ],
 "metadata": {
  "kernelspec": {
   "display_name": ".venv",
   "language": "python",
   "name": "python3"
  },
  "language_info": {
   "codemirror_mode": {
    "name": "ipython",
    "version": 3
   },
   "file_extension": ".py",
   "mimetype": "text/x-python",
   "name": "python",
   "nbconvert_exporter": "python",
   "pygments_lexer": "ipython3",
   "version": "3.10.12"
  }
 },
 "nbformat": 4,
 "nbformat_minor": 2
}
