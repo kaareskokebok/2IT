{
 "cells": [
  {
   "cell_type": "markdown",
   "metadata": {},
   "source": [
    "# While-løkker\n",
    "Lar oss gjenta kode så lenge en betingelse er oppfylt\n",
    "## Telle til 10"
   ]
  },
  {
   "cell_type": "code",
   "execution_count": 3,
   "metadata": {},
   "outputs": [
    {
     "name": "stdout",
     "output_type": "stream",
     "text": [
      "1, 2, 3, 4, 5, 6, 7, 8, 9, 10, "
     ]
    }
   ],
   "source": [
    "tall = 1\n",
    "while tall < 11:  # tall <= 10\n",
    "    print(tall, end=\", \")\n",
    "    tall += 1"
   ]
  },
  {
   "cell_type": "markdown",
   "metadata": {},
   "source": [
    "## Oppgave, tell ned fra 5\n",
    "Output: 5, 4, 3, 2, 1, BOOM!"
   ]
  },
  {
   "cell_type": "code",
   "execution_count": 9,
   "metadata": {},
   "outputs": [
    {
     "name": "stdout",
     "output_type": "stream",
     "text": [
      "5, 4, 3, 2, 1, BOOM!\n"
     ]
    }
   ],
   "source": [
    "tall = 5\n",
    "while tall > 0: \n",
    "    print(tall, end=\", \")\n",
    "    tall -= 1\n",
    "print(\"BOOM!\")"
   ]
  },
  {
   "cell_type": "markdown",
   "metadata": {},
   "source": [
    "## Handle varer og totalpris\n",
    "Lag et program som spør brukeren om prisen på en vare. Dette skal den gjøre 3 ganger.\n",
    "Deretter skriver programmet ut totalprisen på de 3 varene på formen \n",
    "\"De tre varene koster xxx kr til sammen\". (variabler, input, datatyper)\n",
    " \n",
    "Utvidelse:\n",
    "Bruk while-løkke slik at brukeren kan oppgi nye priser, helt til brukeren taster 0, da skal totalprisen skrives ut på samme form som ovenfor, inkludert antall varer som ble kjøpt."
   ]
  },
  {
   "cell_type": "code",
   "execution_count": 14,
   "metadata": {},
   "outputs": [
    {
     "name": "stdout",
     "output_type": "stream",
     "text": [
      "Du kjøpte 1 varer, og må betale 30.0 kr.\n"
     ]
    }
   ],
   "source": [
    "# Skjelettkode (halvferdig program)\n",
    "totalpris = 0\n",
    "antallvarer = 0\n",
    "pris = float(input(\"Oppgi prisen på varen i kr: \"))\n",
    "\n",
    "while pris > 0:\n",
    "    antallvarer += 1\n",
    "    totalpris += pris \n",
    "    pris = float(input(\"Oppgi prisen på varen i kr: \"))\n",
    "\n",
    "print(f\"Du kjøpte {antallvarer} varer, og må betale {totalpris} kr.\") "
   ]
  },
  {
   "cell_type": "markdown",
   "metadata": {},
   "source": [
    "## Lage meny med while-løkke\n",
    "### Kaste 1 eller 2 terninger"
   ]
  },
  {
   "cell_type": "code",
   "execution_count": null,
   "metadata": {},
   "outputs": [],
   "source": [
    "import random\n",
    "import time\n",
    "\n",
    "meny = \"\"\"\n",
    "Gjør et valg:\n",
    "1 - kast 1 terning\n",
    "2 - kast 2 terninger\n",
    "q - avslutt og legg sammen alle øynene, og skriv ut summen\n",
    "\"\"\"\n",
    "summ = 0\n",
    "while True:\n",
    "    print(meny)\n",
    "    valg = input(\"Velg\")\n",
    "    if valg == \"q\":\n",
    "        break  # Avslutt løkka\n",
    "    elif valg == \"1\":\n",
    "        kast = random.randrange(1, 7)\n",
    "        summ += kast\n",
    "        print(kast)\n",
    "    elif valg == \"2\":\n",
    "        kast = random.randrange(1, 7)\n",
    "        kast2 = random.randrange(1, 7)\n",
    "        summ += kast + kast2\n",
    "        print(kast, kast2)\n",
    "    else:\n",
    "        print(\"Ugyldig valg, se menyen...\")\n",
    "\n",
    "    time.sleep(2)  # Sov 2 sekunder\n",
    "\n",
    "# Ute av løkka\n",
    "print(f\"{summ = }\")"
   ]
  },
  {
   "cell_type": "markdown",
   "metadata": {},
   "source": [
    "## Minibank-oppgave\n",
    "Lag et program der en bruker kan holde styr på pengene på sin bankkonto. Han skal kunne sette inn penger, ta ut penger og sjekke saldo. Programmet starter med at brukeren har en saldo på 12 000 kr. \n",
    "\n",
    "Krav til programmet:\n",
    "- Det skal vises en meny med brukerens valgmuligheter, f.eks. \"Tast i for innskudd, u for uttak osv.\"\n",
    "- Innskudd: Når brukeren velger innskudd, skal det spørres etter størrelsen på beløpet. Når pengene settes inn, oppdateres saldoen.\n",
    "- Vis saldo: Når brukeren velger vis saldo, skal saldoen vises på formen \"Din saldo er xxx kr.\"\n",
    "- Uttak: Når brukeren velger uttak, skal beløpet på uttaket tas imot, og det må kontrolleres at det er tilstrekkelig saldo på kontoen for å gjennomføre uttaket. Saldoen oppdateres.\n",
    "- Avslutning: Når brukeren velger avslutt, skal det vises en beskjed \"Takk for at du brukte Bernts Bank\".\n",
    "\n",
    "*Ekstra*: Hold styr på alle bevegelser, og legg til mulighet for å vise de 5 siste bevegelser på kontoen."
   ]
  }
 ],
 "metadata": {
  "kernelspec": {
   "display_name": "Python 3",
   "language": "python",
   "name": "python3"
  },
  "language_info": {
   "codemirror_mode": {
    "name": "ipython",
    "version": 3
   },
   "file_extension": ".py",
   "mimetype": "text/x-python",
   "name": "python",
   "nbconvert_exporter": "python",
   "pygments_lexer": "ipython3",
   "version": "3.10.12"
  }
 },
 "nbformat": 4,
 "nbformat_minor": 2
}
