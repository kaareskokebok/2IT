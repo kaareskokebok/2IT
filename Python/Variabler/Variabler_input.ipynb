{
 "cells": [
  {
   "cell_type": "markdown",
   "metadata": {},
   "source": [
    "# Variabler og input\n",
    "## print-kommandoen\n",
    "Slik brukes print i python"
   ]
  },
  {
   "cell_type": "code",
   "execution_count": 1,
   "metadata": {},
   "outputs": [
    {
     "name": "stdout",
     "output_type": "stream",
     "text": [
      "3\n"
     ]
    }
   ],
   "source": [
    "print(3)"
   ]
  },
  {
   "cell_type": "markdown",
   "metadata": {},
   "source": [
    "Vi kan kombinere utskrift av flere ting"
   ]
  },
  {
   "cell_type": "code",
   "execution_count": 4,
   "metadata": {},
   "outputs": [
    {
     "name": "stdout",
     "output_type": "stream",
     "text": [
      "Hei på deg Jensern\n",
      "HeiJensern .Hyggelig å treffe deg.\n"
     ]
    }
   ],
   "source": [
    "print(\"Hei på deg\", \"Jensern\")\n",
    "print(\"Hei\" + \"Jensern\", \".Hyggelig å treffe deg.\")"
   ]
  },
  {
   "cell_type": "markdown",
   "metadata": {},
   "source": [
    "Merk forskjell på å legge sammen tekster og tall (String vs Number)"
   ]
  },
  {
   "cell_type": "code",
   "execution_count": 8,
   "metadata": {},
   "outputs": [
    {
     "name": "stdout",
     "output_type": "stream",
     "text": [
      "16\n",
      "358\n",
      "3 + 5 + 8\n",
      "358358358358358358358358358358\n"
     ]
    }
   ],
   "source": [
    "print(3 + 5 + 8)\n",
    "print(\"3\" + \"5\" + \"8\")\n",
    "print(\"3 + 5 + 8\")\n",
    "print(\"358\"*10)"
   ]
  },
  {
   "cell_type": "markdown",
   "metadata": {},
   "source": [
    "## Variabler\n",
    "### Lagre tekst i variabler (datatype String)"
   ]
  },
  {
   "cell_type": "code",
   "execution_count": 10,
   "metadata": {},
   "outputs": [
    {
     "name": "stdout",
     "output_type": "stream",
     "text": [
      "hilsen morn\n",
      "hei på deg\n",
      "hei på degJens\n",
      "Jens Jens\n"
     ]
    }
   ],
   "source": [
    "hilsen = \"morn\"\n",
    "print(\"hilsen\", hilsen)\n",
    "hilsen = \"hei på deg\"  # Endrer variabelen\n",
    "print(hilsen)\n",
    "hilsen += \"Jens\"\n",
    "print(hilsen)\n",
    "hilsen = \"Jens\"\n",
    "print(hilsen, \"Jens\")\n"
   ]
  },
  {
   "cell_type": "markdown",
   "metadata": {},
   "source": [
    "## Lagre tall i variabler"
   ]
  },
  {
   "cell_type": "code",
   "execution_count": 13,
   "metadata": {},
   "outputs": [
    {
     "name": "stdout",
     "output_type": "stream",
     "text": [
      "3\n",
      "<class 'int'>\n",
      "<class 'float'>\n",
      "<class 'float'>\n",
      "6.234\n"
     ]
    }
   ],
   "source": [
    "tall = 3\n",
    "print(tall)\n",
    "print(type(tall))\n",
    "tallf = 3.234\n",
    "print(type(tallf))\n",
    "summ = tall + tallf\n",
    "print(type(summ))\n",
    "print(summ)"
   ]
  },
  {
   "cell_type": "markdown",
   "metadata": {},
   "source": [
    "### Shortcuts endringer i tallvariabler"
   ]
  },
  {
   "cell_type": "code",
   "execution_count": 18,
   "metadata": {},
   "outputs": [
    {
     "name": "stdout",
     "output_type": "stream",
     "text": [
      "Verdien av a er 5.0\n",
      "a = 5.0\n"
     ]
    }
   ],
   "source": [
    "a = 3\n",
    "# Øke med 2\n",
    "a = a + 2  # Vanlig\n",
    "a += 2  # Shortcut\n",
    "# Minke med 2\n",
    "a -= 2\n",
    "# Doble med 2\n",
    "a *= 2\n",
    "# Halvere\n",
    "a /= 2\n",
    "print(f\"Verdien av a er {a}\")\n",
    "print(f\"{a = }\")  # Shortcut for print(f\"a = {a}\")"
   ]
  },
  {
   "cell_type": "markdown",
   "metadata": {},
   "source": [
    "## Input\n",
    "### Input med tekst"
   ]
  },
  {
   "cell_type": "code",
   "execution_count": 20,
   "metadata": {},
   "outputs": [
    {
     "name": "stdout",
     "output_type": "stream",
     "text": [
      "Så fint at du heter xxx\n"
     ]
    }
   ],
   "source": [
    "input(\"Hva heter du? \")\n",
    "print(\"Så fint at du heter xxx\")"
   ]
  },
  {
   "cell_type": "markdown",
   "metadata": {},
   "source": [
    "### Input med tall\n",
    "Lag et program som leser inn to heltall, og skriver ut summen på formen\n",
    "\"3 + 5 = 8\".\n",
    "*Tips*: Bruk int for å konvertere til heltall, f.eks. \n",
    "```python\n",
    "tallA = int(input(\"Oppgi et tall: \"))\n",
    "```"
   ]
  },
  {
   "cell_type": "code",
   "execution_count": 22,
   "metadata": {},
   "outputs": [
    {
     "name": "stdout",
     "output_type": "stream",
     "text": [
      "5 + 6 = 11\n"
     ]
    }
   ],
   "source": [
    "tall1 = int(input(\"Oppgi tall: \"))\n",
    "tall2 = int(input(\"Oppgi tall: \"))\n",
    "summ = tall1 + tall2\n",
    "print(f\"{tall1} + {tall2} = {summ}\")"
   ]
  },
  {
   "cell_type": "markdown",
   "metadata": {},
   "source": [
    "### Lese inn desimaltall (float)\n",
    "Lag et program som leser inn pris i kr, f.eks. 297.95, og rabatt i prosent, f.eks. 30.\n",
    "Programmet skal skrive ut den nye prisen.\n",
    "Rabatt regnes ut slik: 297.95 * 30 / 100\n",
    "Ny pris: Gammel pris MINUS rabatt\n"
   ]
  },
  {
   "cell_type": "code",
   "execution_count": 24,
   "metadata": {},
   "outputs": [
    {
     "name": "stdout",
     "output_type": "stream",
     "text": [
      "Prisen blir 189.02 kr.\n"
     ]
    }
   ],
   "source": [
    "pris = float(input(\"Pris (f.eks. 297.95): \"))\n",
    "rabatt_prosent = float(input(\"Rabatt i prosent (f.eks. 30): \"))\n",
    "\n",
    "# Beregning\n",
    "rabatt_kr = pris * rabatt_prosent / 100\n",
    "ny_pris = pris - rabatt_kr\n",
    "\n",
    "# Utskrift og avrunding til 2 desimaler\n",
    "print(f\"Prisen blir {ny_pris:.2f} kr.\")"
   ]
  },
  {
   "cell_type": "markdown",
   "metadata": {},
   "source": [
    "### Oppgave: BMI-kalk\n",
    "Lag en BMI kalkulator der brukeren oppgir sin høyde i m og vekt i kg og får vite BMI. \n",
    "Formelen for å regne ut BMI, er vekt / (høyde x høyde). En person som veier 85 kilo og er 185 centimeter høy deler da 85 på (1,85 x 1,85) – det vil si 85 delt på 3,4225.\n",
    "\n",
    "$$\\text{BMI} = \\frac{\\text{vekt}}{\\text{hoyde}\\cdot \\text{hoyde}}$$"
   ]
  },
  {
   "cell_type": "code",
   "execution_count": 28,
   "metadata": {},
   "outputs": [
    {
     "name": "stdout",
     "output_type": "stream",
     "text": [
      "din bmi er 22.76\n"
     ]
    }
   ],
   "source": [
    "høyde = float(input(\"skriv ned din høyde i meter\"))\n",
    "vekt = float(input(\"skriv ned din vekt i kg\"))\n",
    "\n",
    "bmi = vekt / (høyde*høyde)\n",
    "\n",
    "print(f\"din bmi er {bmi:.2f}\")\n"
   ]
  }
 ],
 "metadata": {
  "kernelspec": {
   "display_name": "Python 3",
   "language": "python",
   "name": "python3"
  },
  "language_info": {
   "codemirror_mode": {
    "name": "ipython",
    "version": 3
   },
   "file_extension": ".py",
   "mimetype": "text/x-python",
   "name": "python",
   "nbconvert_exporter": "python",
   "pygments_lexer": "ipython3",
   "version": "3.10.12"
  }
 },
 "nbformat": 4,
 "nbformat_minor": 2
}
