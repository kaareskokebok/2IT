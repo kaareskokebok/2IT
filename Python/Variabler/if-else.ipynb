{
 "cells": [
  {
   "cell_type": "markdown",
   "metadata": {},
   "source": [
    "# if-else (valgsetninger i Python)\n",
    "## Basic if"
   ]
  },
  {
   "cell_type": "code",
   "execution_count": 1,
   "metadata": {},
   "outputs": [
    {
     "name": "stdout",
     "output_type": "stream",
     "text": [
      "mindre\n",
      "hei\n"
     ]
    }
   ],
   "source": [
    "tall = 3\n",
    "if tall < 5:\n",
    "    print(\"mindre\")\n",
    "print(\"hei\")"
   ]
  },
  {
   "cell_type": "markdown",
   "metadata": {},
   "source": [
    "## Enkel if og else"
   ]
  },
  {
   "cell_type": "code",
   "execution_count": 3,
   "metadata": {},
   "outputs": [
    {
     "name": "stdout",
     "output_type": "stream",
     "text": [
      "mindre\n",
      "hei\n"
     ]
    }
   ],
   "source": [
    "tall = 3\n",
    "if tall < 5:\n",
    "    print(\"mindre\")\n",
    "else:\n",
    "    print(\"hei\")\n",
    "\n",
    "if tall == 4:\n",
    "    print(\"lik 4\")\n",
    "else:\n",
    "    print(\"hei\")"
   ]
  },
  {
   "cell_type": "markdown",
   "metadata": {},
   "source": [
    "## if, elif og else OG random\n",
    "### Terningkast"
   ]
  },
  {
   "cell_type": "code",
   "execution_count": 35,
   "metadata": {},
   "outputs": [
    {
     "name": "stdout",
     "output_type": "stream",
     "text": [
      "4\n",
      "Du fikk en 4-er.\n"
     ]
    }
   ],
   "source": [
    "import random\n",
    "# 7 ikke inkludert\n",
    "kast = random.randrange(1, 7)\n",
    "print(kast)\n",
    "\n",
    "if kast == 6:\n",
    "    print(\"Hurra, du fikk 6\")\n",
    "elif kast > 3:  # else if\n",
    "    print(f\"Du fikk en {kast}-er.\")\n",
    "else:\n",
    "    print(\"Svakt kast...\")"
   ]
  },
  {
   "cell_type": "markdown",
   "metadata": {},
   "source": [
    "### Oppgave: to terningkast\n",
    "Lag et program som kaster to terninger. \n",
    "- Hvis terningene er like, skriv ut \"Like\"\n",
    "- Ellers hvis forskjellen mellom terningene er minst 4, skriv ut \"wow, stor forskjell\"\n",
    "- Ellers skriv ut \"ikkeno spess\". "
   ]
  },
  {
   "cell_type": "code",
   "execution_count": 71,
   "metadata": {},
   "outputs": [
    {
     "name": "stdout",
     "output_type": "stream",
     "text": [
      "3 4\n",
      "1\n",
      "Ikkeno spess\n"
     ]
    }
   ],
   "source": [
    "import random\n",
    "# 7 ikke inkludert\n",
    "kast = random.randrange(1, 7)\n",
    "kast2 = random.randrange(1, 7)\n",
    "# abs gir absoluttverdi, f.eks. abs(-3) gir 3, abs(-10) gir 10, og abs(5) gir 5\n",
    "diff = abs(kast - kast2)  # Forskjellen i absoluttverdi, ser bort fra fortegn\n",
    "\n",
    "print(kast, kast2)\n",
    "print(diff)\n",
    "\n",
    "if kast == kast2:\n",
    "    print(\"Like\")\n",
    "elif diff >= 4:  # else if\n",
    "    print(\"Wow, stor forskjell\")\n",
    "else:\n",
    "    print(\"Ikkeno spess\")"
   ]
  }
 ],
 "metadata": {
  "kernelspec": {
   "display_name": "Python 3",
   "language": "python",
   "name": "python3"
  },
  "language_info": {
   "codemirror_mode": {
    "name": "ipython",
    "version": 3
   },
   "file_extension": ".py",
   "mimetype": "text/x-python",
   "name": "python",
   "nbconvert_exporter": "python",
   "pygments_lexer": "ipython3",
   "version": "3.10.12"
  }
 },
 "nbformat": 4,
 "nbformat_minor": 2
}
