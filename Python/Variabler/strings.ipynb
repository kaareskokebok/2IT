{
 "cells": [
  {
   "cell_type": "markdown",
   "metadata": {},
   "source": [
    "# Strings i Python (tekst)\n",
    "## Multiline"
   ]
  },
  {
   "cell_type": "code",
   "execution_count": 6,
   "metadata": {},
   "outputs": [
    {
     "name": "stdout",
     "output_type": "stream",
     "text": [
      "\n",
      "Tekst over flere\n",
      "linjer\n",
      "\n",
      "Tekst\n",
      "----------\n",
      "over flere\n",
      "----\n",
      "linjer\n",
      "\n"
     ]
    }
   ],
   "source": [
    "multi1 = \"\"\"\n",
    "Tekst over flere\n",
    "linjer\n",
    "\"\"\"\n",
    "multi2 = '''Tekst\n",
    "----------\n",
    "over flere\n",
    "----\n",
    "linjer\n",
    "'''\n",
    "print(multi1)\n",
    "print(multi2)"
   ]
  },
  {
   "cell_type": "markdown",
   "metadata": {},
   "source": [
    "## Quotes in quotes ('', \"\")"
   ]
  },
  {
   "cell_type": "code",
   "execution_count": 8,
   "metadata": {},
   "outputs": [
    {
     "name": "stdout",
     "output_type": "stream",
     "text": [
      "Jens sa \"morn\", og gikk så hjem\n",
      "Jens sa \"morn\", og gikk hjem\n"
     ]
    }
   ],
   "source": [
    "print(\"Jens sa \\\"morn\\\", og gikk så hjem\")\n",
    "# print(\"Jens sa \"morn\", og gikk så hjem\")  # Gir feilmelding\n",
    "print('Jens sa \"morn\", og gikk hjem')"
   ]
  },
  {
   "cell_type": "markdown",
   "metadata": {},
   "source": [
    "## Strings er arrayer (lister av bokstaver og tegn)\n",
    "\n",
    "### Lengde av string og hente ut enkelttegn"
   ]
  },
  {
   "cell_type": "code",
   "execution_count": 13,
   "metadata": {},
   "outputs": [
    {
     "name": "stdout",
     "output_type": "stream",
     "text": [
      "txt[1] = 'e'\n",
      "txt[0] = 'V'\n",
      "36\n",
      "y\n"
     ]
    }
   ],
   "source": [
    "txt = \"Velkommen til Maura, her er det gøy!\"\n",
    "print(f\"{txt[1] = }\")\n",
    "print(f\"{txt[0] = }\")\n",
    "# Antall tegn i txt\n",
    "print(len(txt))\n",
    "# Negative indekser\n",
    "print(txt[-2])  # 2. tegnet fra høyre side\n"
   ]
  },
  {
   "cell_type": "markdown",
   "metadata": {},
   "source": [
    "## in og not in i Strings"
   ]
  },
  {
   "cell_type": "code",
   "execution_count": 19,
   "metadata": {},
   "outputs": [
    {
     "name": "stdout",
     "output_type": "stream",
     "text": [
      "True\n",
      "False\n",
      "True\n",
      "øy er i teksten\n",
      "maura ikke i txt\n",
      "Nannestad ikke i txt\n"
     ]
    }
   ],
   "source": [
    "txt = \"Velkommen til Maura, her er det gøy!\"\n",
    "print(\"ø\" in txt)  # True\n",
    "print(\"j\" in txt)  # False\n",
    "print(\"j\" not in txt)  # True\n",
    "\n",
    "if \"øy\" in txt:\n",
    "    print(\"øy er i teksten\")\n",
    "if \"maura\" in txt:\n",
    "    print(\"koko\")\n",
    "else:\n",
    "    print(\"maura ikke i txt\")\n",
    "\n",
    "if \"Nannestad\" not in txt:\n",
    "    print(\"Nannestad ikke i txt\")"
   ]
  },
  {
   "cell_type": "markdown",
   "metadata": {},
   "source": [
    "## Slicing: dele teksten i biter. Ta en kakebit av teksten..."
   ]
  },
  {
   "cell_type": "code",
   "execution_count": 32,
   "metadata": {},
   "outputs": [
    {
     "name": "stdout",
     "output_type": "stream",
     "text": [
      "lko\n",
      "Velkommen\n",
      "til\n",
      "Maura,\n",
      "Velkommen til Maura\n",
      "her er det gøy!\n",
      "gøy!\n",
      "Velkommen til Maura, her er det gøy\n"
     ]
    }
   ],
   "source": [
    "txt = \"Velkommen til Maura, her er det gøy!\"\n",
    "print(txt[2:5])\n",
    "print(txt[0:9])\n",
    "print(txt[10:13])  # til\n",
    "print(txt[14:20])  # Maura,\n",
    "# Fra index til starten\n",
    "print(txt[:19])\n",
    "# Fra index til slutten\n",
    "print(txt[21:])\n",
    "# Negative index til slutten\n",
    "print(txt[-4:])\n",
    "# Negative index til starten\n",
    "print(txt[:-1])\n"
   ]
  },
  {
   "cell_type": "markdown",
   "metadata": {},
   "source": [
    "## String-metoder "
   ]
  },
  {
   "cell_type": "code",
   "execution_count": 39,
   "metadata": {},
   "outputs": [
    {
     "name": "stdout",
     "output_type": "stream",
     "text": [
      " Jensern Med Gensern    \n",
      "jensern med gensern\n",
      " JENSERN MED GENSERN    \n",
      " kentern med gensern    \n",
      " jansarn mad gansarn    \n",
      "['', 'jensern', 'med', 'gensern', '', '', '', '']\n",
      "[' jensern me', ' gensern    ']\n",
      "[' jensern ', ' gensern    ']\n",
      "Jynsyrn Myd Gynsyrn\n"
     ]
    }
   ],
   "source": [
    "txt = \" jensern med gensern    \"\n",
    "print(txt.title())\n",
    "print(txt.strip())\n",
    "print(txt.upper())\n",
    "print(txt.replace(\"jens\", \"kent\"))\n",
    "print(txt.replace(\"e\", \"a\"))\n",
    "\n",
    "print(txt.split(\" \"))\n",
    "print(txt.split(\"d\"))\n",
    "print(txt.split(\"med\"))\n",
    "\n",
    "# Kombinasjoner\n",
    "print(txt.strip().replace(\"e\", \"y\").title())"
   ]
  },
  {
   "cell_type": "markdown",
   "metadata": {},
   "source": [
    "## Formatering og avrunding"
   ]
  },
  {
   "cell_type": "code",
   "execution_count": 40,
   "metadata": {},
   "outputs": [
    {
     "name": "stdout",
     "output_type": "stream",
     "text": [
      "pi er 3.1423534512433458\n",
      "pi er 3.14235\n",
      "pi er 3.14\n",
      "pi er 3\n"
     ]
    }
   ],
   "source": [
    "pi = 3.142353451243345643543\n",
    "print(f\"pi er {pi}\")\n",
    "print(f\"pi er {pi:.5f}\")\n",
    "print(f\"pi er {pi:.2f}\")\n",
    "print(f\"pi er {pi:.0f}\")\n"
   ]
  },
  {
   "cell_type": "markdown",
   "metadata": {},
   "source": [
    "## Loope gjennom en tekst"
   ]
  },
  {
   "cell_type": "code",
   "execution_count": 48,
   "metadata": {},
   "outputs": [
    {
     "name": "stdout",
     "output_type": "stream",
     "text": [
      "3\n",
      "H, Hei, e, Hei, i, Hei, "
     ]
    }
   ],
   "source": [
    "txt = \"Hei\"\n",
    "print(len(txt))  # 11\n",
    "for tegn in txt:  # For hvert tegn i txt, gjenta følgende\n",
    "    # print(\"tegn\")\n",
    "    print(tegn, end=f\", {txt}, \")"
   ]
  }
 ],
 "metadata": {
  "kernelspec": {
   "display_name": "Python 3",
   "language": "python",
   "name": "python3"
  },
  "language_info": {
   "codemirror_mode": {
    "name": "ipython",
    "version": 3
   },
   "file_extension": ".py",
   "mimetype": "text/x-python",
   "name": "python",
   "nbconvert_exporter": "python",
   "pygments_lexer": "ipython3",
   "version": "3.10.12"
  }
 },
 "nbformat": 4,
 "nbformat_minor": 2
}
